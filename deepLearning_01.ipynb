{
  "nbformat": 4,
  "nbformat_minor": 0,
  "metadata": {
    "colab": {
      "private_outputs": true,
      "provenance": []
    },
    "kernelspec": {
      "name": "python3",
      "display_name": "Python 3"
    },
    "language_info": {
      "name": "python"
    }
  },
  "cells": [
    {
      "cell_type": "code",
      "execution_count": null,
      "metadata": {
        "id": "TunEtdFOQUmk"
      },
      "outputs": [],
      "source": [
        "!pip list"
      ]
    },
    {
      "cell_type": "code",
      "source": [
        "import tensorflow as tf\n",
        "!pip install ipykernel"
      ],
      "metadata": {
        "id": "DmcDf4hlQw30"
      },
      "execution_count": null,
      "outputs": []
    },
    {
      "cell_type": "code",
      "source": [
        "# Numpy tutorial\n",
        "\n",
        "import numpy as np\n",
        "\n",
        "# 1 dimensional\n",
        "x = np.array(12)\n",
        "\n",
        "print(x.shape)\n",
        "\n",
        "print(type(x))\n",
        "\n",
        "\n",
        "# 2D array : stack of multiple 1-D array\n",
        "x = np.array([[1,2,3], [4,5,6]])\n",
        "print(x, x.shape)\n",
        "\n",
        "\n",
        "# 3D arrray\n",
        "x = np.array([[[1,2,4]]])\n",
        "\n",
        "print(x, x.shape)\n",
        "\n",
        "# example\n",
        "\n",
        "x = np.array([[1,2],[3,4], [5,6], [7,8]])\n",
        "\n",
        "print(x, x.shape)"
      ],
      "metadata": {
        "id": "uJVICpoGR6Ih"
      },
      "execution_count": null,
      "outputs": []
    },
    {
      "cell_type": "markdown",
      "source": [
        "Tensorflow convention : data is always presented in matrices form."
      ],
      "metadata": {
        "id": "AmOkT4odYi5X"
      }
    },
    {
      "cell_type": "code",
      "source": [
        "# Neural network implementation in Python, without using Tensorflow\n",
        "# Hard coding example\n",
        "\n",
        "import numpy as np\n",
        "\n",
        "x = np.array([200.0, 17.0])\n",
        "\n",
        "# compute activation values of layer1 , units = 2\n",
        "w1_1 = np.array([1, 2])\n",
        "b1_1 = np.array([-1])\n",
        "z1_1 = np.dot(w1_1, x) + b1_1\n",
        "a1_1 = sigmoid(z1_1)\n",
        "\n",
        "w1_2 = np.array([-3, 4])\n",
        "b1_2 = np.array([1])\n",
        "z1_2 = np.dot(w1_2, x) + b1_2\n",
        "a2_1 = sigmoid(z1_2)\n",
        "\n",
        "w1_3 = np.array([-4, 5])\n",
        "b1_3 = np.array([-2])\n",
        "z1_3 = np.dot(w1_3, x) + b1_3\n",
        "a3_1 = sigmoid(z1_3)\n",
        "\n",
        "\n",
        "a1 = np.array([a1_1, a2_1, a3_1])\n",
        "\n",
        "# 2nd layer\n",
        "w2_1 = np.array([-7, 8, 9])\n",
        "b2_1 = np.array([3])\n",
        "z2_1 = np.dot(w2_1, a1) + b2_1\n",
        "\n",
        "\n",
        "\n",
        "# general Neural network , no hard coding\n",
        "# General implementation of forward propagation\n",
        "# write a function to implement a dense function\n",
        "def dense(a_in, W, b):\n",
        "  units = W.shape[1]\n",
        "  a_out = np.zeros(units)\n",
        "  for j in range(units):\n",
        "    w= W[:, j]              # pulling out the w values as a column\n",
        "    z= np.dot(w, a_in) + b[j]   # calculating the z value\n",
        "    a_out = g(z)\n",
        "  return a_out\n",
        "\n",
        "def sequential(x):\n",
        "  a1 = dense(x, W1, b1)\n",
        "  a2 = dense(a1, W2, b2)\n",
        "  a3 = dense(a2, W3, b3)\n",
        "  a4 = dense(a3, W4, b4)\n",
        "  f_x = a4\n",
        "  return f_x"
      ],
      "metadata": {
        "id": "H3OAkicpej_H"
      },
      "execution_count": null,
      "outputs": []
    },
    {
      "cell_type": "code",
      "source": [],
      "metadata": {
        "id": "mErKqjC1YXbl"
      },
      "execution_count": null,
      "outputs": []
    }
  ]
}